{
  "nbformat": 4,
  "nbformat_minor": 0,
  "metadata": {
    "colab": {
      "provenance": [],
      "authorship_tag": "ABX9TyOm4im3Dg9c92HqbmFNxYHo",
      "include_colab_link": true
    },
    "kernelspec": {
      "name": "python3",
      "display_name": "Python 3"
    },
    "language_info": {
      "name": "python"
    }
  },
  "cells": [
    {
      "cell_type": "markdown",
      "metadata": {
        "id": "view-in-github",
        "colab_type": "text"
      },
      "source": [
        "<a href=\"https://colab.research.google.com/github/ronak1290/Big-Data-Assignment-All/blob/main/Assignment_2.ipynb\" target=\"_parent\"><img src=\"https://colab.research.google.com/assets/colab-badge.svg\" alt=\"Open In Colab\"/></a>"
      ]
    },
    {
      "cell_type": "code",
      "execution_count": null,
      "metadata": {
        "id": "hwMMh5xxa2FT"
      },
      "outputs": [],
      "source": []
    },
    {
      "cell_type": "code",
      "source": [
        "# Q-1\n",
        "import numpy as np\n",
        "\n",
        "arr = np.array([1, 2, 3, 6, 4, 5])\n",
        "\n",
        "reversed_arr = arr[::-1]\n",
        "\n",
        "print(\"Original array:\", arr)\n",
        "print(\"Reversed array:\", reversed_arr)\n"
      ],
      "metadata": {
        "id": "xw7xHlfMa26W"
      },
      "execution_count": null,
      "outputs": []
    },
    {
      "cell_type": "code",
      "source": [
        "# Q-2\n",
        "import numpy as np\n",
        "\n",
        "arr1 = np.array([[1, 2], [3, 4]])\n",
        "arr2 = np.array([[1, 2], [3, 4]])\n",
        "\n",
        "are_equal = np.array_equal(arr1, arr2)\n",
        "\n",
        "print(\"Are the arrays equal?\", are_equal)\n"
      ],
      "metadata": {
        "id": "TgWTTb9tbLe9"
      },
      "execution_count": null,
      "outputs": []
    },
    {
      "cell_type": "code",
      "source": [
        "# Q-3\n",
        "import numpy as np\n",
        "\n",
        "x = np.array([1, 2, 3, 4, 5, 1, 2, 1, 1, 1])\n",
        "unique_x, counts_x = np.unique(x, return_counts=True)\n",
        "\n",
        "most_frequent_value_x = unique_x[np.argmax(counts_x)]\n",
        "most_frequent_indices_x = np.where(x == most_frequent_value_x)[0]\n",
        "\n",
        "print(\"Most frequent value in x:\", most_frequent_value_x)\n",
        "print(\"Indices of the most frequent value in x:\", most_frequent_indices_x)\n",
        "\n",
        "y = np.array([1, 1, 1, 2, 3, 4, 2, 4, 3, 3])\n",
        "unique_y, counts_y = np.unique(y, return_counts=True)\n",
        "\n",
        "most_frequent_value_y = unique_y[np.argmax(counts_y)]\n",
        "most_frequent_indices_y = np.where(y == most_frequent_value_y)[0]\n",
        "\n",
        "print(\"\\nMost frequent value in y:\", most_frequent_value_y)\n",
        "print(\"Indices of the most frequent value in y:\", most_frequent_indices_y)\n"
      ],
      "metadata": {
        "id": "B0DrCZ0EbXKA"
      },
      "execution_count": null,
      "outputs": []
    },
    {
      "cell_type": "code",
      "source": [
        "# Q-4\n",
        "import numpy as np\n",
        "\n",
        "gfg = np.matrix('4, 1, 9; 12, 3, 1; 4, 5, 6')\n",
        "\n",
        "total_sum = np.sum(gfg)\n",
        "\n",
        "row_sums = np.sum(gfg, axis=1)\n",
        "\n",
        "column_sums = np.sum(gfg, axis=0)\n",
        "\n",
        "print(\"Sum of all elements:\", total_sum)\n",
        "print(\"Sum of all elements row-wise:\", row_sums)\n",
        "print(\"Sum of all elements column-wise:\", column_sums)\n"
      ],
      "metadata": {
        "id": "l0a_vhK7bihT"
      },
      "execution_count": null,
      "outputs": []
    }
  ]
}