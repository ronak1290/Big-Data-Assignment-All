{
  "nbformat": 4,
  "nbformat_minor": 0,
  "metadata": {
    "colab": {
      "provenance": [],
      "authorship_tag": "ABX9TyNQvOkBM+jRfus2BogLwGWz",
      "include_colab_link": true
    },
    "kernelspec": {
      "name": "python3",
      "display_name": "Python 3"
    },
    "language_info": {
      "name": "python"
    }
  },
  "cells": [
    {
      "cell_type": "markdown",
      "metadata": {
        "id": "view-in-github",
        "colab_type": "text"
      },
      "source": [
        "<a href=\"https://colab.research.google.com/github/ronak1290/Big-Data-Assignment-All/blob/main/Assignment_3.ipynb\" target=\"_parent\"><img src=\"https://colab.research.google.com/assets/colab-badge.svg\" alt=\"Open In Colab\"/></a>"
      ]
    },
    {
      "cell_type": "code",
      "execution_count": null,
      "metadata": {
        "id": "vCXKBbAaaH2I"
      },
      "outputs": [],
      "source": []
    },
    {
      "cell_type": "code",
      "source": [
        "# Q-1\n",
        "import pandas as pd\n",
        "\n",
        "data = {\n",
        "    'Name': ['Alice', 'Bob', 'Charlie', 'David', 'Emily'],\n",
        "    'Age': [25, 30, 35, 40, 45],\n",
        "    'Gender': ['Female', 'Male', 'Male', 'Male', 'Female'],\n",
        "    'Occupation': ['Engineer', 'Doctor', 'Teacher', 'Artist', 'Lawyer']\n",
        "}\n",
        "\n",
        "df = pd.DataFrame(data)\n",
        "print(df)\n"
      ],
      "metadata": {
        "id": "kx3yrzU2aKpr",
        "colab": {
          "base_uri": "https://localhost:8080/"
        },
        "outputId": "0f2543ea-93a7-49a6-8fef-1c6dadf5451a"
      },
      "execution_count": 19,
      "outputs": [
        {
          "output_type": "stream",
          "name": "stdout",
          "text": [
            "      Name  Age  Gender Occupation\n",
            "0    Alice   25  Female   Engineer\n",
            "1      Bob   30    Male     Doctor\n",
            "2  Charlie   35    Male    Teacher\n",
            "3    David   40    Male     Artist\n",
            "4    Emily   45  Female     Lawyer\n"
          ]
        }
      ]
    },
    {
      "cell_type": "code",
      "source": [
        "print(df.shape)"
      ],
      "metadata": {
        "colab": {
          "base_uri": "https://localhost:8080/"
        },
        "id": "Mch3Y4O6ry56",
        "outputId": "ad0a3984-5ae3-401a-b71f-09271c4aea74"
      },
      "execution_count": 9,
      "outputs": [
        {
          "output_type": "stream",
          "name": "stdout",
          "text": [
            "(5, 4)\n"
          ]
        }
      ]
    },
    {
      "cell_type": "code",
      "source": [
        "print(rows_to_locate)"
      ],
      "metadata": {
        "colab": {
          "base_uri": "https://localhost:8080/"
        },
        "id": "MQ8PrRknr3Qo",
        "outputId": "1dbe229e-4ded-4319-e8fb-cb85661b2bef"
      },
      "execution_count": 10,
      "outputs": [
        {
          "output_type": "stream",
          "name": "stdout",
          "text": [
            "[0, 4, 7, 8]\n"
          ]
        }
      ]
    },
    {
      "cell_type": "code",
      "source": [
        "print(df.index)"
      ],
      "metadata": {
        "colab": {
          "base_uri": "https://localhost:8080/"
        },
        "id": "wCDqeJqnqr8A",
        "outputId": "99ffc6dd-84c2-4c02-eb07-6af9881641dd"
      },
      "execution_count": 5,
      "outputs": [
        {
          "output_type": "stream",
          "name": "stdout",
          "text": [
            "RangeIndex(start=0, stop=5, step=1)\n"
          ]
        }
      ]
    },
    {
      "cell_type": "code",
      "source": [
        "!pip install pandas\n"
      ],
      "metadata": {
        "colab": {
          "base_uri": "https://localhost:8080/"
        },
        "id": "EVIFU4XKsCkR",
        "outputId": "e2c48b24-16fb-4702-d83d-7130085ffe92"
      },
      "execution_count": 12,
      "outputs": [
        {
          "output_type": "stream",
          "name": "stdout",
          "text": [
            "Requirement already satisfied: pandas in /usr/local/lib/python3.10/dist-packages (2.0.3)\n",
            "Requirement already satisfied: python-dateutil>=2.8.2 in /usr/local/lib/python3.10/dist-packages (from pandas) (2.8.2)\n",
            "Requirement already satisfied: pytz>=2020.1 in /usr/local/lib/python3.10/dist-packages (from pandas) (2023.4)\n",
            "Requirement already satisfied: tzdata>=2022.1 in /usr/local/lib/python3.10/dist-packages (from pandas) (2024.1)\n",
            "Requirement already satisfied: numpy>=1.21.0 in /usr/local/lib/python3.10/dist-packages (from pandas) (1.25.2)\n",
            "Requirement already satisfied: six>=1.5 in /usr/local/lib/python3.10/dist-packages (from python-dateutil>=2.8.2->pandas) (1.16.0)\n"
          ]
        }
      ]
    },
    {
      "cell_type": "code",
      "source": [
        "import pandas as pd\n"
      ],
      "metadata": {
        "id": "apz8wWaQqrh8"
      },
      "execution_count": 13,
      "outputs": []
    },
    {
      "cell_type": "code",
      "source": [
        "df= pd.DataFrame({'col1':[1,2,3],'col2':[4,5,6]})\n",
        "print(df)"
      ],
      "metadata": {
        "colab": {
          "base_uri": "https://localhost:8080/"
        },
        "id": "mZmG6pKdsT7G",
        "outputId": "f4c10876-9c41-41cd-89c0-84e939af9a6d"
      },
      "execution_count": 15,
      "outputs": [
        {
          "output_type": "stream",
          "name": "stdout",
          "text": [
            "   col1  col2\n",
            "0     1     4\n",
            "1     2     5\n",
            "2     3     6\n"
          ]
        }
      ]
    },
    {
      "cell_type": "code",
      "source": [
        "row_to_locate = [2,4]"
      ],
      "metadata": {
        "id": "oPUA4FFsspFj"
      },
      "execution_count": 16,
      "outputs": []
    },
    {
      "cell_type": "code",
      "source": [
        "for i in row_to_locate:\n",
        "  if i>=len(df):\n",
        "    print(f\"Index{i}is not of bounds.\")"
      ],
      "metadata": {
        "id": "NKbYAwtAsvlt",
        "outputId": "784acf08-3311-4c05-cb27-96dbf8f4943e",
        "colab": {
          "base_uri": "https://localhost:8080/"
        }
      },
      "execution_count": 17,
      "outputs": [
        {
          "output_type": "stream",
          "name": "stdout",
          "text": [
            "Index4is not of bounds.\n"
          ]
        }
      ]
    },
    {
      "cell_type": "code",
      "source": [
        "row_to_locate= [0,3,4]\n",
        "print(row_to_locate)"
      ],
      "metadata": {
        "id": "bhT0AuqFrA8x"
      },
      "execution_count": null,
      "outputs": []
    },
    {
      "cell_type": "code",
      "source": [
        "# Q-2\n",
        "import pandas as pd\n",
        "\n",
        "# Read CSV file in Google Colab\n",
        "# Make sure to upload the CSV file to your Google Colab environment before running this code\n",
        "# The file path should be provided based on where you uploaded the file\n",
        "file_path = '/content/sample_data/california_housing_test.csv'\n",
        "df = pd.read_csv(file_path)\n",
        "\n",
        "# Display the DataFrame\n",
        "print(df.head())\n"
      ],
      "metadata": {
        "id": "g1OVUMCrajg4",
        "colab": {
          "base_uri": "https://localhost:8080/"
        },
        "outputId": "e43a74ec-01ce-4926-f7ef-b763e518738a"
      },
      "execution_count": 2,
      "outputs": [
        {
          "output_type": "stream",
          "name": "stdout",
          "text": [
            "   longitude  latitude  housing_median_age  total_rooms  total_bedrooms  \\\n",
            "0    -122.05     37.37                27.0       3885.0           661.0   \n",
            "1    -118.30     34.26                43.0       1510.0           310.0   \n",
            "2    -117.81     33.78                27.0       3589.0           507.0   \n",
            "3    -118.36     33.82                28.0         67.0            15.0   \n",
            "4    -119.67     36.33                19.0       1241.0           244.0   \n",
            "\n",
            "   population  households  median_income  median_house_value  \n",
            "0      1537.0       606.0         6.6085            344700.0  \n",
            "1       809.0       277.0         3.5990            176500.0  \n",
            "2      1484.0       495.0         5.7934            270500.0  \n",
            "3        49.0        11.0         6.1359            330000.0  \n",
            "4       850.0       237.0         2.9375             81700.0  \n"
          ]
        }
      ]
    }
  ]
}