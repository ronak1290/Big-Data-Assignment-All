{
  "nbformat": 4,
  "nbformat_minor": 0,
  "metadata": {
    "colab": {
      "provenance": [],
      "authorship_tag": "ABX9TyOCQjCnb2/2GlxJ1vxUeay6",
      "include_colab_link": true
    },
    "kernelspec": {
      "name": "python3",
      "display_name": "Python 3"
    },
    "language_info": {
      "name": "python"
    }
  },
  "cells": [
    {
      "cell_type": "markdown",
      "metadata": {
        "id": "view-in-github",
        "colab_type": "text"
      },
      "source": [
        "<a href=\"https://colab.research.google.com/github/ronak1290/Big-Data-Assignment-All/blob/main/Assignment_3.ipynb\" target=\"_parent\"><img src=\"https://colab.research.google.com/assets/colab-badge.svg\" alt=\"Open In Colab\"/></a>"
      ]
    },
    {
      "cell_type": "code",
      "execution_count": null,
      "metadata": {
        "id": "vCXKBbAaaH2I"
      },
      "outputs": [],
      "source": []
    },
    {
      "cell_type": "code",
      "source": [
        "# Q-1\n",
        "import pandas as pd\n",
        "\n",
        "data = {\n",
        "    'Name': ['Alice', 'Bob', 'Charlie', 'David', 'Emily'],\n",
        "    'Age': [25, 30, 35, 40, 45],\n",
        "    'Gender': ['Female', 'Male', 'Male', 'Male', 'Female'],\n",
        "    'Occupation': ['Engineer', 'Doctor', 'Teacher', 'Artist', 'Lawyer']\n",
        "}\n",
        "\n",
        "df = pd.DataFrame(data)\n",
        "\n",
        "rows_to_locate = [0, 4, 7, 8]\n",
        "located_rows = df.iloc[rows_to_locate]\n",
        "\n",
        "print(\"Located rows:\")\n",
        "print(located_rows)\n"
      ],
      "metadata": {
        "id": "kx3yrzU2aKpr"
      },
      "execution_count": null,
      "outputs": []
    },
    {
      "cell_type": "code",
      "source": [
        "# Q-2\n",
        "import pandas as pd\n",
        "\n",
        "# Read CSV file in Google Colab\n",
        "# Make sure to upload the CSV file to your Google Colab environment before running this code\n",
        "# The file path should be provided based on where you uploaded the file\n",
        "file_path = '/content/sample_data/california_housing_test.csv'\n",
        "df = pd.read_csv(file_path)\n",
        "\n",
        "# Display the DataFrame\n",
        "print(df.head())\n"
      ],
      "metadata": {
        "id": "g1OVUMCrajg4"
      },
      "execution_count": null,
      "outputs": []
    }
  ]
}