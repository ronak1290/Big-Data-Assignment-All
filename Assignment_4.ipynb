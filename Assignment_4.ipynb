{
  "nbformat": 4,
  "nbformat_minor": 0,
  "metadata": {
    "colab": {
      "provenance": [],
      "authorship_tag": "ABX9TyPJIQ5x8s+W+4Ep/UIB/FPW",
      "include_colab_link": true
    },
    "kernelspec": {
      "name": "python3",
      "display_name": "Python 3"
    },
    "language_info": {
      "name": "python"
    }
  },
  "cells": [
    {
      "cell_type": "markdown",
      "metadata": {
        "id": "view-in-github",
        "colab_type": "text"
      },
      "source": [
        "<a href=\"https://colab.research.google.com/github/ronak1290/Big-Data-Assignment-All/blob/main/Assignment_4.ipynb\" target=\"_parent\"><img src=\"https://colab.research.google.com/assets/colab-badge.svg\" alt=\"Open In Colab\"/></a>"
      ]
    },
    {
      "cell_type": "code",
      "execution_count": null,
      "metadata": {
        "id": "toZWggzEZJ9T"
      },
      "outputs": [],
      "source": []
    },
    {
      "cell_type": "code",
      "source": [
        "import pandas as pd\n",
        "import matplotlib.pyplot as plt\n",
        "\n",
        "data = pd.read_csv(\"https://raw.githubusercontent.com/AnjulaMehto/MCA/main/company_sales_data.csv\")\n",
        "\n",
        "total_profit = data['total_profit']\n",
        "\n",
        "plt.figure(figsize=(10, 6))\n",
        "plt.plot(total_profit, marker='o', color='b', linestyle='-')\n",
        "plt.title('Total Profit Over Months')\n",
        "plt.xlabel('Months')\n",
        "plt.ylabel('Total Profit')\n",
        "plt.grid(True)\n",
        "plt.show()\n",
        "\n",
        "plt.figure(figsize=(10, 6))\n",
        "for product in data.columns[1:10]:\n",
        "    plt.plot(data['month_number'], data[product], marker='o', label=product)\n",
        "\n",
        "plt.title('Product Sales Over Months')\n",
        "plt.xlabel('Months')\n",
        "plt.ylabel('Sales')\n",
        "plt.legend()\n",
        "plt.grid(True)\n",
        "plt.show()\n",
        "\n",
        "plt.figure(figsize=(10, 6))\n",
        "for attribute in data.columns[1:]:\n",
        "    plt.bar(attribute, data[attribute].sum())\n",
        "\n",
        "plt.title('Total Sales for Each Attribute')\n",
        "plt.xlabel('Attribute')\n",
        "plt.ylabel('Total Sales')\n",
        "plt.xticks(rotation=45)\n",
        "plt.grid(True)\n",
        "plt.show()\n",
        "\n",
        "attributes = data.columns[1:5]\n",
        "colors = ['r', 'g', 'b', 'c']\n",
        "\n",
        "plt.figure(figsize=(10, 6))\n",
        "for i, attribute in enumerate(attributes):\n",
        "    plt.scatter(data['month_number'], data[attribute], color=colors[i], label=attribute)\n",
        "\n",
        "plt.title('Scatter Plot of First Four Attributes')\n",
        "plt.xlabel('Months')\n",
        "plt.ylabel('Attribute Value')\n",
        "plt.legend()\n",
        "plt.grid(True)\n",
        "plt.show()\n"
      ],
      "metadata": {
        "id": "QYDQeUJaZn-9"
      },
      "execution_count": null,
      "outputs": []
    }
  ]
}