{
  "nbformat": 4,
  "nbformat_minor": 0,
  "metadata": {
    "colab": {
      "provenance": [],
      "authorship_tag": "ABX9TyPNXBB+TYwGFfGmEeNNt3Rv",
      "include_colab_link": true
    },
    "kernelspec": {
      "name": "python3",
      "display_name": "Python 3"
    },
    "language_info": {
      "name": "python"
    }
  },
  "cells": [
    {
      "cell_type": "markdown",
      "metadata": {
        "id": "view-in-github",
        "colab_type": "text"
      },
      "source": [
        "<a href=\"https://colab.research.google.com/github/ronak1290/Big-Data-Assignment-All/blob/main/Assignment_5.ipynb\" target=\"_parent\"><img src=\"https://colab.research.google.com/assets/colab-badge.svg\" alt=\"Open In Colab\"/></a>"
      ]
    },
    {
      "cell_type": "code",
      "execution_count": null,
      "metadata": {
        "id": "9g4O6s9cXel9"
      },
      "outputs": [],
      "source": [
        "#Assignment-5\n",
        "#Q-1\n",
        "import pandas as pd\n",
        "import seaborn as sns\n",
        "import matplotlib.pyplot as plt\n",
        "\n",
        "total_profit_df = pd.read_csv('total_profit.csv')\n",
        "sns.lineplot(x='Month', y='Total Profit', data=total_profit_df)\n",
        "plt.title('Total Profit of All Months')\n",
        "plt.xlabel('Month')\n",
        "plt.ylabel('Total Profit')\n",
        "plt.show()\n",
        "\n",
        "product_sales_df = pd.read_csv('product_sales.csv')\n",
        "sns.lineplot(data=product_sales_df.drop('Month', axis=1))\n",
        "plt.title('Product Sales Over Time')\n",
        "plt.xlabel('Month')\n",
        "plt.ylabel('Sales')\n",
        "plt.legend(title='Products')\n",
        "plt.show()\n",
        "\n",
        "attributes_data_df = pd.read_csv('attributes_data.csv')\n",
        "sns.barplot(x='Attribute', y='Value', data=attributes_data_df)\n",
        "plt.title('Bar Chart of Attributes')\n",
        "plt.xlabel('Attribute')\n",
        "plt.ylabel('Value')\n",
        "plt.xticks(rotation=45)\n",
        "plt.show()\n"
      ]
    },
    {
      "cell_type": "code",
      "source": [
        "# Q-2\n",
        "import plotly.express as px\n",
        "import pandas as pd\n",
        "\n",
        "data = {\n",
        "    'x': [1, 2, 3, 4, 5],\n",
        "    'y': [2, 3, 4, 5, 6],\n",
        "    'labels': ['A', 'B', 'C', 'D', 'E']\n",
        "}\n",
        "\n",
        "df = pd.DataFrame(data)\n",
        "\n",
        "fig = px.scatter(df, x='x', y='y', text='labels', title='Scatter Plot')\n",
        "\n",
        "fig.update_layout(\n",
        "    xaxis_title=\"X Axis\",\n",
        "    yaxis_title=\"Y Axis\",\n",
        "    font=dict(\n",
        "        family=\"Arial\",\n",
        "        size=12,\n",
        "        color=\"black\"\n",
        "    )\n",
        ")\n",
        "\n",
        "fig.show()\n"
      ],
      "metadata": {
        "id": "5KqIKPSTYHYX"
      },
      "execution_count": null,
      "outputs": []
    },
    {
      "cell_type": "code",
      "source": [
        "# Q-3\n",
        "import plotly.express as px\n",
        "import pandas as pd\n",
        "\n",
        "data = {\n",
        "    'Category': ['A', 'B', 'C', 'D'],\n",
        "    'Values': [10, 20, 15, 25]\n",
        "}\n",
        "\n",
        "df = pd.DataFrame(data)\n",
        "\n",
        "fig = px.bar(df, x='Category', y='Values', title='Bar Chart')\n",
        "\n",
        "fig.update_layout(\n",
        "    xaxis_title=\"Category\",\n",
        "    yaxis_title=\"Values\",\n",
        "    font=dict(\n",
        "        family=\"Arial\",\n",
        "        size=12,\n",
        "        color=\"black\"\n",
        "    )\n",
        ")\n",
        "\n",
        "fig.show()\n"
      ],
      "metadata": {
        "id": "hKZekJbBYZeo"
      },
      "execution_count": null,
      "outputs": []
    },
    {
      "cell_type": "code",
      "source": [
        "# Q-4\n",
        "import plotly.express as px\n",
        "import pandas as pd\n",
        "\n",
        "data = {\n",
        "    'Values': [1, 2, 3, 4, 4, 4, 5, 5, 5, 5, 6, 6, 6, 7, 7, 7, 7, 7, 8, 8]\n",
        "}\n",
        "\n",
        "df = pd.DataFrame(data)\n",
        "\n",
        "fig = px.histogram(df, x='Values', title='Histogram')\n",
        "\n",
        "fig.update_layout(\n",
        "    xaxis_title=\"Values\",\n",
        "    yaxis_title=\"Frequency\",\n",
        "    font=dict(\n",
        "        family=\"Arial\",\n",
        "        size=12,\n",
        "        color=\"black\"\n",
        "    )\n",
        ")\n",
        "\n",
        "fig.show()\n"
      ],
      "metadata": {
        "id": "jr7StVPUYncM"
      },
      "execution_count": null,
      "outputs": []
    }
  ]
}